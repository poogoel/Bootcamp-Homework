{
 "cells": [
  {
   "cell_type": "code",
   "execution_count": 1,
   "metadata": {},
   "outputs": [],
   "source": [
    "# First we'll import the os module\n",
    "# This will allow us to create file paths across operating systems\n",
    "import os\n",
    "# Module for reading CSV files\n",
    "import csv\n",
    "csvpath = os.path.join('', 'Resources','election_data.csv')\n",
    "\n",
    "# Method 2: Improved Reading using CSV module\n",
    "\n",
    "with open(csvpath, newline='') as csvfile:\n",
    "\n",
    "    # CSV reader specifies delimiter and variable that holds contents\n",
    "    #csvreader = csv.reader(csvfile, delimiter=',')\n",
    "    csvreader = csvfile.read()\n",
    "    #print(csvreader)\n",
    "    table = [row.split(',') for row in csvreader.split('\\n')]\n",
    "    #print(table) "
   ]
  },
  {
   "cell_type": "code",
   "execution_count": 2,
   "metadata": {},
   "outputs": [
    {
     "name": "stdout",
     "output_type": "stream",
     "text": [
      "Total Votes: 3521001\n"
     ]
    }
   ],
   "source": [
    "i=1\n",
    "total = 0\n",
    "current_value = 0\n",
    "length = len(table)\n",
    "# * The total number of months included in the dataset\n",
    "#print(f\"total number of months included in the dataset: {length}\")\n",
    "tot_votes = \"Total Votes: \" + str(length-2)\n",
    "print(tot_votes)"
   ]
  },
  {
   "cell_type": "code",
   "execution_count": 3,
   "metadata": {},
   "outputs": [
    {
     "name": "stdout",
     "output_type": "stream",
     "text": [
      "Final List\n",
      "candidate list: ['Khan\\r', 'Correy\\r', 'Li\\r', \"O'Tooley\\r\"]\n",
      "candidate cnt: [2218231, 704200, 492940, 105629]\n"
     ]
    }
   ],
   "source": [
    "candidate_cnt = []\n",
    "candidate = []\n",
    "#print(\"length of excel :\",length)\n",
    "#reading Excel File\n",
    "for i in range(1,length-2):\n",
    "    #print (\"Excel row:\",i)\n",
    "    if i == 1:\n",
    "        #print(\"row 1\")\n",
    "        candidate_name = table[i][2]\n",
    "        candidate_vote_count = 1\n",
    "        #print(candidate_name)\n",
    "        candidate.append(candidate_name)\n",
    "        candidate_cnt.append(candidate_vote_count) \n",
    "        #print(\"candidate:\",candidate)\n",
    "        #print(\"candidate_cnt:\",candidate_cnt)\n",
    "    elif i > 1:\n",
    "        candidate_name = str(table[i][2])\n",
    "        if i == (length-1):\n",
    "            candidate_name = candidate_name + '\\r'\n",
    "        #print(\"elif \", \"Excel row count:\",i)\n",
    "        #print(\"searching for candidate:\",candidate_name)\n",
    "        candidate_found=\"n\"\n",
    "        #loop for candidate list\n",
    "        for j in range(0,len(candidate)):\n",
    "            #print(\"index of candidate list: \", j)\n",
    "            if candidate_name == candidate[j]:\n",
    "                candidate_found = \"y\"\n",
    "                #print (\"candidate found in list\")\n",
    "                #print (\"candidate list index:\", j)\n",
    "                current_candidate_vote_cnt = candidate_cnt[j]\n",
    "                candidate_cnt[j] = current_candidate_vote_cnt + 1\n",
    "                #print (\"current_candidate_vote_cnt :\", current_candidate_vote_cnt)\n",
    "                #print(\"candidate_cnt :\", candidate_cnt[j])\n",
    "                break\n",
    "                #else continue \"for loop\"\n",
    "            else:\n",
    "                continue\n",
    "        if candidate_found == \"n\":\n",
    "                candidate.append(candidate_name)\n",
    "                candidate_cnt.append(1)\n",
    "print (\"Final List\")\n",
    "print(\"candidate list:\", candidate)\n",
    "print (\"candidate cnt:\", candidate_cnt)\n",
    "        "
   ]
  },
  {
   "cell_type": "code",
   "execution_count": 4,
   "metadata": {},
   "outputs": [
    {
     "name": "stdout",
     "output_type": "stream",
     "text": [
      "('Total Votes: ', 3521000)\n"
     ]
    }
   ],
   "source": [
    "tot_votes = (\"Total Votes: \" , sum(candidate_cnt))\n",
    "print(tot_votes)"
   ]
  },
  {
   "cell_type": "code",
   "execution_count": 5,
   "metadata": {},
   "outputs": [],
   "source": [
    "max_vote = max(candidate_cnt) \n",
    "#print(max_vote)\n",
    "for k in range(0,len(candidate_cnt)):\n",
    "    if max_vote == candidate_cnt[k]:\n",
    "        win = (\"Winner :\", candidate[k])\n",
    "        #print(win)"
   ]
  },
  {
   "cell_type": "code",
   "execution_count": 6,
   "metadata": {},
   "outputs": [],
   "source": [
    "# Define path to output file my_analysis.txt\n",
    "output_path = os.path.join('', 'Resources', \"my_PyPoll_analysis.txt\")\n",
    "\n",
    "# Open the file using \"write\" mode. Specify the variable to hold the contents\n",
    "with open(output_path, 'w', newline='') as txtfile:\n",
    "     # Initialize csv.writer\n",
    "    csvwriter = csv.writer(txtfile, delimiter='\\n')\n",
    "    csvwriter.writerow(\"Election Results\")\n",
    "    csvwriter.writerow(\"-----------------------------------------\")\n",
    "    csvwriter.writerow(tot_votes)\n",
    "    csvwriter.writerow(\"-----------------------------------------\")\n",
    "    for j in range(0,len(candidate)):\n",
    "        str1 = (candidate[j], \" : \",)\n",
    "        str2 = ((round(candidate_cnt[j]/sum(candidate_cnt),2))*100, \"% (\", candidate_cnt[j], \")\")\n",
    "        str3 = str1 + str2\n",
    "        csvwriter.writerow(str3)\n",
    "    csvwriter.writerow(\"-----------------------------------------\")\n",
    "    csvwriter.writerow(win)\n",
    "    csvwriter.writerow(\"-----------------------------------------\")\n",
    "    \n",
    "# For window users only\n",
    "#!explorer ."
   ]
  },
  {
   "cell_type": "code",
   "execution_count": 8,
   "metadata": {},
   "outputs": [],
   "source": [
    "!explorer ."
   ]
  },
  {
   "cell_type": "code",
   "execution_count": null,
   "metadata": {},
   "outputs": [],
   "source": [
    "\n",
    "    "
   ]
  },
  {
   "cell_type": "code",
   "execution_count": null,
   "metadata": {},
   "outputs": [],
   "source": []
  }
 ],
 "metadata": {
  "kernelspec": {
   "display_name": "Conda [PythonData]",
   "language": "python",
   "name": "pythondata"
  },
  "language_info": {
   "codemirror_mode": {
    "name": "ipython",
    "version": 3
   },
   "file_extension": ".py",
   "mimetype": "text/x-python",
   "name": "python",
   "nbconvert_exporter": "python",
   "pygments_lexer": "ipython3",
   "version": "3.7.3"
  }
 },
 "nbformat": 4,
 "nbformat_minor": 2
}
