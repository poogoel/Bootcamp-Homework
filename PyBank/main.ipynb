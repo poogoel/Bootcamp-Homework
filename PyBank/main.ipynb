{
 "cells": [
  {
   "cell_type": "code",
   "execution_count": 26,
   "metadata": {},
   "outputs": [],
   "source": [
    "# First we'll import the os module\n",
    "# This will allow us to create file paths across operating systems\n",
    "import os"
   ]
  },
  {
   "cell_type": "code",
   "execution_count": 27,
   "metadata": {},
   "outputs": [],
   "source": [
    "# Module for reading CSV files\n",
    "import csv\n",
    "csvpath = os.path.join('', 'Resources', 'budget_data.csv')"
   ]
  },
  {
   "cell_type": "code",
   "execution_count": 28,
   "metadata": {},
   "outputs": [],
   "source": [
    "# Method 2: Improved Reading using CSV module\n",
    "with open(csvpath, newline='') as csvfile:\n",
    "\n",
    "    # CSV reader specifies delimiter and variable that holds contents\n",
    "    csvreader = csvfile.read()\n",
    "    table = [row.split(',') for row in csvreader.split('\\n')]\n",
    "    #print (table) "
   ]
  },
  {
   "cell_type": "code",
   "execution_count": 29,
   "metadata": {},
   "outputs": [
    {
     "name": "stdout",
     "output_type": "stream",
     "text": [
      "Total Months: 86\n"
     ]
    }
   ],
   "source": [
    "i=1\n",
    "total = 0\n",
    "current_value = 0\n",
    "length = len(table) - 2\n",
    "# * The total number of months included in the dataset\n",
    "#print(f\"total number of months included in the dataset: {length}\")\n",
    "tot_mnths = \"Total Months: \" + str(length)\n",
    "print(tot_mnths)"
   ]
  },
  {
   "cell_type": "code",
   "execution_count": 30,
   "metadata": {},
   "outputs": [
    {
     "name": "stdout",
     "output_type": "stream",
     "text": [
      "Total :38382578\n"
     ]
    }
   ],
   "source": [
    "# * The net total amount of \"Profit/Losses\" over the entire period\n",
    "total_monthly_change = []\n",
    "Month_year = []\n",
    "profit_loss = []\n",
    "monthly_change = 0\n",
    "for i in range(1,(length+1)):\n",
    "    if i == 0:\n",
    "        last_value = 0\n",
    "        current_value = 0        \n",
    "    elif i == 1:\n",
    "        current_mnth_yr = (table[i][0])\n",
    "        current_profit_loss = (table[i][1])\n",
    "        profit_loss.append(int(current_profit_loss))\n",
    "        Month_year.append(current_mnth_yr)\n",
    "    elif i > 1:\n",
    "        last_value = (table[i-1][1])\n",
    "        current_value = (table[i][1])\n",
    "        current_mnth_yr = (table[i][0])\n",
    "        Month_year.append(current_mnth_yr)\n",
    "        current_profit_loss = (table[i][1])\n",
    "        profit_loss.append(int(current_profit_loss))\n",
    "        #print(profit_loss)\n",
    "        monthly_change = (int(current_value)- int(last_value))\n",
    "    total_monthly_change.append(monthly_change) \n",
    "prt_tot = sum(profit_loss)\n",
    "#print(f\"Total Monthly Change list : {str(prt_tot)}\")\n",
    "print_total_change = \"Total :\" + str(prt_tot)\n",
    "print(print_total_change)"
   ]
  },
  {
   "cell_type": "code",
   "execution_count": 31,
   "metadata": {},
   "outputs": [
    {
     "name": "stdout",
     "output_type": "stream",
     "text": [
      "Average  Change: $-2315.1176470588234\n"
     ]
    }
   ],
   "source": [
    "#  * The average of the changes in \"Profit/Losses\" over the entire period\n",
    "def mean(numbers):\n",
    "    return float(sum(numbers)) / max((len(numbers)-1), 1)\n",
    "Average = mean(total_monthly_change)\n",
    "prt_avg = \"Average  Change: $\" + str(Average)\n",
    "print(prt_avg)"
   ]
  },
  {
   "cell_type": "code",
   "execution_count": 36,
   "metadata": {},
   "outputs": [
    {
     "name": "stdout",
     "output_type": "stream",
     "text": [
      "Greatest Decrease in Profits:Sep-2013  -2196167\n"
     ]
    }
   ],
   "source": [
    "#  * The greatest decrease in losses (date and amount) over the entire period\n",
    "minimum = 0\n",
    "minimum = min(total_monthly_change)\n",
    "min_index = total_monthly_change.index(minimum)\n",
    "min_date = Month_year[min_index]\n",
    "prt_min = \"Greatest Decrease in Profits:\" + str(min_date)+ \"  \" + str(minimum)\n",
    "print(prt_min)"
   ]
  },
  {
   "cell_type": "code",
   "execution_count": 37,
   "metadata": {},
   "outputs": [
    {
     "name": "stdout",
     "output_type": "stream",
     "text": [
      "Greatest Increase in Profits :Feb-2012  1926159\n"
     ]
    }
   ],
   "source": [
    "#  * The greatest increase in profits (date and amount) over the entire period\n",
    "maximum = 0\n",
    "maximum = max(total_monthly_change)\n",
    "max_index = total_monthly_change.index(maximum)\n",
    "max_date = Month_year[max_index]\n",
    "prt_max = \"Greatest Increase in Profits :\" + str(max_date)+ \"  \" + str(maximum)\n",
    "print(prt_max)"
   ]
  },
  {
   "cell_type": "code",
   "execution_count": 38,
   "metadata": {},
   "outputs": [],
   "source": [
    "output_path = os.path.join('', 'Resources', \"my_analysis.txt\")\n",
    "\n",
    "# Open the file using \"write\" mode. Specify the variable to hold the contents\n",
    "with open(output_path, 'w', newline='') as txtfile:\n",
    "     # Initialize csv.writer\n",
    "    csvwriter = csv.writer(txtfile, delimiter='\\n')\n",
    "    csvwriter.writerow(\"Financial Analysis\")\n",
    "    csvwriter.writerow(\"-----------------------------------------\")\n",
    "    csvwriter.writerow(tot_mnths)\n",
    "    csvwriter.writerow(print_total_change)\n",
    "    csvwriter.writerow(prt_avg)\n",
    "    csvwriter.writerow(prt_min)\n",
    "    csvwriter.writerow(prt_max)\n",
    "    csvwriter.writerow(\"-----------------------------------------\")"
   ]
  },
  {
   "cell_type": "code",
   "execution_count": 39,
   "metadata": {},
   "outputs": [],
   "source": [
    "!explorer ."
   ]
  },
  {
   "cell_type": "code",
   "execution_count": null,
   "metadata": {},
   "outputs": [],
   "source": []
  }
 ],
 "metadata": {
  "kernelspec": {
   "display_name": "Conda [PythonData]",
   "language": "python",
   "name": "pythondata"
  },
  "language_info": {
   "codemirror_mode": {
    "name": "ipython",
    "version": 3
   },
   "file_extension": ".py",
   "mimetype": "text/x-python",
   "name": "python",
   "nbconvert_exporter": "python",
   "pygments_lexer": "ipython3",
   "version": "3.7.3"
  }
 },
 "nbformat": 4,
 "nbformat_minor": 2
}
