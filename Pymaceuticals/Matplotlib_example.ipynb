{
 "cells": [
  {
   "cell_type": "code",
   "execution_count": 1,
   "metadata": {},
   "outputs": [
    {
     "data": {
      "text/plain": [
       "<Figure size 640x480 with 1 Axes>"
      ]
     },
     "metadata": {},
     "output_type": "display_data"
    }
   ],
   "source": [
    "import matplotlib.pyplot as plt\n",
    "import pandas as pd\n",
    "import numpy as np\n",
    "\n",
    "colors = ['red','blue','green','yellow','purple','black']\n",
    "\n",
    "df = pd.DataFrame(index=[10,100,1000,10000], columns=['A', 'B', 'C', 'D', 'E', 'F'], data=np.random.rand(4,6))\n",
    "df_yerr = pd.DataFrame(index=[10,100,1000,10000], columns=['A', 'B', 'C', 'D', 'E', 'F'], data=np.random.rand(4,6))\n",
    "\n",
    "fig, ax = plt.subplots()\n",
    "df.plot(ax=ax, marker=\"o\",color=colors)\n",
    "\n",
    "index = df.index\n",
    "rows = len(index)\n",
    "columns = len(df.columns)\n",
    "\n",
    "factor = 0.95\n",
    "for column,color in zip(range(columns),colors):\n",
    "    y = df.values[:,column]\n",
    "    yerr = df_yerr.values[:,column]\n",
    "    ax.errorbar(\n",
    "        df.index*factor, y, yerr=yerr, markersize=0, capsize=5,color=color,\n",
    "        zorder = 10,\n",
    "    )\n",
    "    factor *= 1.02\n",
    "\n",
    "ax.set_xscale(\"log\")\n"
   ]
  },
  {
   "cell_type": "code",
   "execution_count": 2,
   "metadata": {},
   "outputs": [],
   "source": [
    "plt.show()"
   ]
  },
  {
   "cell_type": "code",
   "execution_count": null,
   "metadata": {},
   "outputs": [],
   "source": []
  }
 ],
 "metadata": {
  "kernelspec": {
   "display_name": "Conda [PythonData]",
   "language": "python",
   "name": "pythondata"
  },
  "language_info": {
   "codemirror_mode": {
    "name": "ipython",
    "version": 3
   },
   "file_extension": ".py",
   "mimetype": "text/x-python",
   "name": "python",
   "nbconvert_exporter": "python",
   "pygments_lexer": "ipython3",
   "version": "3.7.3"
  }
 },
 "nbformat": 4,
 "nbformat_minor": 2
}
